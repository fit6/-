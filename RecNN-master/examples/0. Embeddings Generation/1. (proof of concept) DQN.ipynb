{
 "cells": [
  {
   "cell_type": "markdown",
   "metadata": {},
   "source": [
    "# DQN\n",
    "P.S. This is not my code.\n",
    "I mainly copied it from higgsfield's RL-Adventure\n",
    "\n",
    "This is a Proof of Concept for embeddings generation. Although, it is possible to generate new embeddings using transfer learning, I would advice you to use it only for testing purposes."
   ]
  },
  {
   "cell_type": "code",
   "execution_count": 1,
   "metadata": {},
   "outputs": [],
   "source": [
    "import torch\n",
    "import torch.nn as nn\n",
    "import torch.nn.functional as F\n",
    "import torch.optim as optim\n",
    "from torch.utils.data import DataLoader\n",
    "from torch.utils.tensorboard import SummaryWriter\n",
    "import torch_optimizer as optim"
   ]
  },
  {
   "cell_type": "code",
   "execution_count": 2,
   "metadata": {},
   "outputs": [],
   "source": [
    "import numpy as np\n",
    "import pandas as pd\n",
    "from tqdm.auto import tqdm\n",
    "import gc\n",
    "\n",
    "from IPython.display import clear_output\n",
    "import matplotlib.pyplot as plt\n",
    "%matplotlib inline\n",
    "\n",
    "\n",
    "# == recnn ==\n",
    "import sys\n",
    "sys.path.append(\"../../\")\n",
    "import recnn\n",
    "\n",
    "device = torch.device('cuda')\n",
    "# ---\n",
    "frame_size = 10\n",
    "batch_size = 10\n",
    "embed_dim  = 128\n",
    "# --- \n",
    "\n",
    "tqdm.pandas()"
   ]
  },
  {
   "cell_type": "code",
   "execution_count": 3,
   "metadata": {},
   "outputs": [
    {
     "name": "stdout",
     "output_type": "stream",
     "text": [
      "Done!\n"
     ]
    }
   ],
   "source": [
    "# https://drive.google.com/open?id=1kTyu05ZmtP2MA33J5hWdX8OyUYEDW4iI\n",
    "# download ml20m dataset yourself\n",
    "ratings = pd.read_csv('../../data/ml-20m/ratings.csv')\n",
    "keys = list(sorted(ratings['movieId'].unique()))\n",
    "key_to_id = dict(zip(keys, range(len(keys))))\n",
    "\n",
    "user_dict, users = recnn.data.prepare_datasets(ratings, key_to_id, frame_size)\n",
    "\n",
    "del ratings\n",
    "gc.collect()\n",
    "clear_output(True)\n",
    "clear_output(True)\n",
    "print('Done!')"
   ]
  },
  {
   "cell_type": "code",
   "execution_count": 4,
   "metadata": {},
   "outputs": [],
   "source": [
    "class DuelDQN(nn.Module):\n",
    "    def __init__(self, input_dim, action_dim):\n",
    "        super(DuelDQN, self).__init__()\n",
    "        self.feature = nn.Sequential(nn.Linear(input_dim, 128), nn.ReLU())\n",
    "        self.advantage = nn.Sequential(nn.Linear(128, 128), nn.ReLU(),\n",
    "                                       nn.Linear(128, action_dim))\n",
    "        self.value = nn.Sequential(nn.Linear(128, 128), nn.ReLU(), nn.Linear(128, 1))\n",
    "        \n",
    "    def forward(self, x):\n",
    "        x = self.feature(x)\n",
    "        advantage = self.advantage(x)\n",
    "        value     = self.value(x)\n",
    "        return value + advantage  - advantage.mean()"
   ]
  },
  {
   "cell_type": "code",
   "execution_count": 5,
   "metadata": {},
   "outputs": [],
   "source": [
    "def dqn_update(step, batch, params, learn=True):\n",
    "    \n",
    "    # for key,i in batch.items():\n",
    "    #     i = i.to(device)\n",
    "    #     print(i)\n",
    "    #     cc\n",
    "    batch = [i.to(device) for key,i in batch.items()]\n",
    "    items, next_items, ratings, next_ratings, action, reward, done = batch\n",
    "    b_size = items.size(0)\n",
    "    state = torch.cat([embeddings(items).view(b_size, -1), ratings], 1)\n",
    "    next_state = torch.cat([embeddings(next_items).view(b_size, -1), next_ratings], 1)\n",
    "\n",
    "    q_values      = dqn(state)\n",
    "    with torch.no_grad():\n",
    "        next_q_values = target_dqn(next_state)\n",
    "    q_value          = q_values.gather(1, action.unsqueeze(1)).squeeze(1)\n",
    "    next_q_value     = next_q_values.max(1)[0]\n",
    "    expected_q_value = reward + params['gamma'] * next_q_value * (1 - done)\n",
    "    \n",
    "    loss = (q_value - expected_q_value).pow(2).mean()\n",
    "        \n",
    "    if learn:\n",
    "        writer.add_scalar('value/train', loss, step)\n",
    "        embeddings_optimizer.zero_grad()\n",
    "        value_optimizer.zero_grad()\n",
    "        loss.backward()\n",
    "        torch.nn.utils.clip_grad_norm_(dqn.parameters(), -1, 1)\n",
    "        embeddings_optimizer.step()\n",
    "        value_optimizer.step()\n",
    "    else:\n",
    "        writer.add_histogram('q_values', q_values, step)\n",
    "        writer.add_scalar('value/test', loss, step)\n",
    "    \n",
    "    return loss.item()"
   ]
  },
  {
   "cell_type": "code",
   "execution_count": 6,
   "metadata": {},
   "outputs": [],
   "source": [
    "def run_tests():\n",
    "    test_batch = next(iter(test_dataloader))\n",
    "    losses = dqn_update(step, test_batch, params, learn=False)\n",
    "    return losses\n",
    "\n",
    "def soft_update(net, target_net, soft_tau=1e-2):\n",
    "    for target_param, param in zip(target_net.parameters(), net.parameters()):\n",
    "            target_param.data.copy_(\n",
    "                target_param.data * (1.0 - soft_tau) + param.data * soft_tau\n",
    "            )"
   ]
  },
  {
   "cell_type": "code",
   "execution_count": 7,
   "metadata": {},
   "outputs": [],
   "source": [
    "# === DQN settings ===\n",
    "\n",
    "params = {\n",
    "    'gamma'        : 0.99,\n",
    "    'value_lr'     : 1e-5,\n",
    "    'embeddings_lr': 1e-5,\n",
    "}\n",
    "\n",
    "# === end ==="
   ]
  },
  {
   "cell_type": "code",
   "execution_count": 8,
   "metadata": {},
   "outputs": [
    {
     "name": "stderr",
     "output_type": "stream",
     "text": [
      "2023-04-11 20:17:38.915591: I tensorflow/stream_executor/platform/default/dso_loader.cc:48] Successfully opened dynamic library libcudart.so.10.1\n"
     ]
    }
   ],
   "source": [
    "dqn = DuelDQN((embed_dim + 1) * frame_size, len(keys)).to(device)\n",
    "target_dqn = DuelDQN((embed_dim + 1) * frame_size, len(keys)).to(device)\n",
    "embeddings = nn.Embedding(len(keys), embed_dim).to(device)\n",
    "# embeddings.load_state_dict(torch.load('../../models/embeddings/dqn.pt'))\n",
    "target_dqn.load_state_dict(dqn.state_dict())\n",
    "target_dqn.eval()\n",
    "\n",
    "value_optimizer = optim.RAdam(dqn.parameters(),\n",
    "                              lr=params['value_lr'])\n",
    "embeddings_optimizer = optim.RAdam(embeddings.parameters(),\n",
    "                              lr=params['embeddings_lr'])\n",
    "writer = SummaryWriter(log_dir='../../runs')"
   ]
  },
  {
   "cell_type": "code",
   "execution_count": 9,
   "metadata": {},
   "outputs": [
    {
     "data": {
      "application/vnd.jupyter.widget-view+json": {
       "model_id": "9960f34d3c3e4db29726d389cedf9840",
       "version_major": 2,
       "version_minor": 0
      },
      "text/plain": [
       "  0%|          | 0/100 [00:00<?, ?it/s]"
      ]
     },
     "metadata": {},
     "output_type": "display_data"
    }
   ],
   "source": [
    "n_epochs = 100\n",
    "batch_size = 25\n",
    "\n",
    "epoch_bar = tqdm(total=n_epochs)\n",
    "train_users = users[:-5000]\n",
    "test_users = users[-5000:]\n",
    "\n",
    "def prepare_batch_wrapper(x):\n",
    "    # batch = recnn.data.prepare_batch_static_size(x, frame_size=frame_size)\n",
    "    batch = recnn.data.batch_no_embeddings(x, frame_size=frame_size)\n",
    "    return batch\n",
    "\n",
    "train_user_dataset = recnn.data.UserDataset(train_users, user_dict)\n",
    "test_user_dataset = recnn.data.UserDataset(test_users, user_dict)\n",
    "\n",
    "train_dataloader = DataLoader(train_user_dataset, batch_size=batch_size,\n",
    "                        shuffle=True, num_workers=4,collate_fn=prepare_batch_wrapper)\n",
    "test_dataloader = DataLoader(test_user_dataset, batch_size=batch_size,\n",
    "                        shuffle=True, num_workers=4,collate_fn=prepare_batch_wrapper)"
   ]
  },
  {
   "cell_type": "code",
   "execution_count": 10,
   "metadata": {},
   "outputs": [
    {
     "name": "stdout",
     "output_type": "stream",
     "text": [
      "step 68820\n"
     ]
    },
    {
     "data": {
      "image/png": "[encoded data removed]",
      "text/plain": [
       "<Figure size 432x288 with 1 Axes>"
      ]
     },
     "metadata": {
      "needs_background": "light"
     },
     "output_type": "display_data"
    },
    {
     "ename": "KeyboardInterrupt",
     "evalue": "",
     "output_type": "error",
     "traceback": [
      "\u001b[0;31m---------------------------------------------------------------------------\u001b[0m",
      "\u001b[0;31mKeyboardInterrupt\u001b[0m                         Traceback (most recent call last)",
      "\u001b[0;32m/tmp/ipykernel_11822/3022513414.py\u001b[0m in \u001b[0;36m<module>\u001b[0;34m\u001b[0m\n\u001b[1;32m     16\u001b[0m     \u001b[0mepoch_bar\u001b[0m\u001b[0;34m.\u001b[0m\u001b[0mupdate\u001b[0m\u001b[0;34m(\u001b[0m\u001b[0;36m1\u001b[0m\u001b[0;34m)\u001b[0m\u001b[0;34m\u001b[0m\u001b[0;34m\u001b[0m\u001b[0m\n\u001b[1;32m     17\u001b[0m     \u001b[0;32mfor\u001b[0m \u001b[0mbatch\u001b[0m \u001b[0;32min\u001b[0m \u001b[0mtqdm\u001b[0m\u001b[0;34m(\u001b[0m\u001b[0mtrain_dataloader\u001b[0m\u001b[0;34m)\u001b[0m\u001b[0;34m:\u001b[0m\u001b[0;34m\u001b[0m\u001b[0;34m\u001b[0m\u001b[0m\n\u001b[0;32m---> 18\u001b[0;31m         \u001b[0mloss\u001b[0m \u001b[0;34m=\u001b[0m \u001b[0mdqn_update\u001b[0m\u001b[0;34m(\u001b[0m\u001b[0mstep\u001b[0m\u001b[0;34m,\u001b[0m \u001b[0mbatch\u001b[0m\u001b[0;34m,\u001b[0m \u001b[0mparams\u001b[0m\u001b[0;34m)\u001b[0m\u001b[0;34m\u001b[0m\u001b[0;34m\u001b[0m\u001b[0m\n\u001b[0m\u001b[1;32m     19\u001b[0m         \u001b[0mtrain_loss\u001b[0m\u001b[0;34m.\u001b[0m\u001b[0mappend\u001b[0m\u001b[0;34m(\u001b[0m\u001b[0mloss\u001b[0m\u001b[0;34m)\u001b[0m\u001b[0;34m\u001b[0m\u001b[0;34m\u001b[0m\u001b[0m\n\u001b[1;32m     20\u001b[0m         \u001b[0mstep\u001b[0m \u001b[0;34m+=\u001b[0m \u001b[0;36m1\u001b[0m\u001b[0;34m\u001b[0m\u001b[0;34m\u001b[0m\u001b[0m\n",
      "\u001b[0;32m/tmp/ipykernel_11822/2243657777.py\u001b[0m in \u001b[0;36mdqn_update\u001b[0;34m(step, batch, params, learn)\u001b[0m\n\u001b[1;32m     13\u001b[0m     \u001b[0mq_values\u001b[0m      \u001b[0;34m=\u001b[0m \u001b[0mdqn\u001b[0m\u001b[0;34m(\u001b[0m\u001b[0mstate\u001b[0m\u001b[0;34m)\u001b[0m\u001b[0;34m\u001b[0m\u001b[0;34m\u001b[0m\u001b[0m\n\u001b[1;32m     14\u001b[0m     \u001b[0;32mwith\u001b[0m \u001b[0mtorch\u001b[0m\u001b[0;34m.\u001b[0m\u001b[0mno_grad\u001b[0m\u001b[0;34m(\u001b[0m\u001b[0;34m)\u001b[0m\u001b[0;34m:\u001b[0m\u001b[0;34m\u001b[0m\u001b[0;34m\u001b[0m\u001b[0m\n\u001b[0;32m---> 15\u001b[0;31m         \u001b[0mnext_q_values\u001b[0m \u001b[0;34m=\u001b[0m \u001b[0mtarget_dqn\u001b[0m\u001b[0;34m(\u001b[0m\u001b[0mnext_state\u001b[0m\u001b[0;34m)\u001b[0m\u001b[0;34m\u001b[0m\u001b[0;34m\u001b[0m\u001b[0m\n\u001b[0m\u001b[1;32m     16\u001b[0m     \u001b[0mq_value\u001b[0m          \u001b[0;34m=\u001b[0m \u001b[0mq_values\u001b[0m\u001b[0;34m.\u001b[0m\u001b[0mgather\u001b[0m\u001b[0;34m(\u001b[0m\u001b[0;36m1\u001b[0m\u001b[0;34m,\u001b[0m \u001b[0maction\u001b[0m\u001b[0;34m.\u001b[0m\u001b[0munsqueeze\u001b[0m\u001b[0;34m(\u001b[0m\u001b[0;36m1\u001b[0m\u001b[0;34m)\u001b[0m\u001b[0;34m)\u001b[0m\u001b[0;34m.\u001b[0m\u001b[0msqueeze\u001b[0m\u001b[0;34m(\u001b[0m\u001b[0;36m1\u001b[0m\u001b[0;34m)\u001b[0m\u001b[0;34m\u001b[0m\u001b[0;34m\u001b[0m\u001b[0m\n\u001b[1;32m     17\u001b[0m     \u001b[0mnext_q_value\u001b[0m     \u001b[0;34m=\u001b[0m \u001b[0mnext_q_values\u001b[0m\u001b[0;34m.\u001b[0m\u001b[0mmax\u001b[0m\u001b[0;34m(\u001b[0m\u001b[0;36m1\u001b[0m\u001b[0;34m)\u001b[0m\u001b[0;34m[\u001b[0m\u001b[0;36m0\u001b[0m\u001b[0;34m]\u001b[0m\u001b[0;34m\u001b[0m\u001b[0;34m\u001b[0m\u001b[0m\n",
      "\u001b[0;32m~/miniconda3/lib/python3.8/site-packages/torch/nn/modules/module.py\u001b[0m in \u001b[0;36m_call_impl\u001b[0;34m(self, *input, **kwargs)\u001b[0m\n\u001b[1;32m   1128\u001b[0m         if not (self._backward_hooks or self._forward_hooks or self._forward_pre_hooks or _global_backward_hooks\n\u001b[1;32m   1129\u001b[0m                 or _global_forward_hooks or _global_forward_pre_hooks):\n\u001b[0;32m-> 1130\u001b[0;31m             \u001b[0;32mreturn\u001b[0m \u001b[0mforward_call\u001b[0m\u001b[0;34m(\u001b[0m\u001b[0;34m*\u001b[0m\u001b[0minput\u001b[0m\u001b[0;34m,\u001b[0m \u001b[0;34m**\u001b[0m\u001b[0mkwargs\u001b[0m\u001b[0;34m)\u001b[0m\u001b[0;34m\u001b[0m\u001b[0;34m\u001b[0m\u001b[0m\n\u001b[0m\u001b[1;32m   1131\u001b[0m         \u001b[0;31m# Do not call functions when jit is used\u001b[0m\u001b[0;34m\u001b[0m\u001b[0;34m\u001b[0m\u001b[0;34m\u001b[0m\u001b[0m\n\u001b[1;32m   1132\u001b[0m         \u001b[0mfull_backward_hooks\u001b[0m\u001b[0;34m,\u001b[0m \u001b[0mnon_full_backward_hooks\u001b[0m \u001b[0;34m=\u001b[0m \u001b[0;34m[\u001b[0m\u001b[0;34m]\u001b[0m\u001b[0;34m,\u001b[0m \u001b[0;34m[\u001b[0m\u001b[0;34m]\u001b[0m\u001b[0;34m\u001b[0m\u001b[0;34m\u001b[0m\u001b[0m\n",
      "\u001b[0;32m/tmp/ipykernel_11822/1331415762.py\u001b[0m in \u001b[0;36mforward\u001b[0;34m(self, x)\u001b[0m\n\u001b[1;32m     11\u001b[0m         \u001b[0madvantage\u001b[0m \u001b[0;34m=\u001b[0m \u001b[0mself\u001b[0m\u001b[0;34m.\u001b[0m\u001b[0madvantage\u001b[0m\u001b[0;34m(\u001b[0m\u001b[0mx\u001b[0m\u001b[0;34m)\u001b[0m\u001b[0;34m\u001b[0m\u001b[0;34m\u001b[0m\u001b[0m\n\u001b[1;32m     12\u001b[0m         \u001b[0mvalue\u001b[0m     \u001b[0;34m=\u001b[0m \u001b[0mself\u001b[0m\u001b[0;34m.\u001b[0m\u001b[0mvalue\u001b[0m\u001b[0;34m(\u001b[0m\u001b[0mx\u001b[0m\u001b[0;34m)\u001b[0m\u001b[0;34m\u001b[0m\u001b[0;34m\u001b[0m\u001b[0m\n\u001b[0;32m---> 13\u001b[0;31m         \u001b[0;32mreturn\u001b[0m \u001b[0mvalue\u001b[0m \u001b[0;34m+\u001b[0m \u001b[0madvantage\u001b[0m  \u001b[0;34m-\u001b[0m \u001b[0madvantage\u001b[0m\u001b[0;34m.\u001b[0m\u001b[0mmean\u001b[0m\u001b[0;34m(\u001b[0m\u001b[0;34m)\u001b[0m\u001b[0;34m\u001b[0m\u001b[0;34m\u001b[0m\u001b[0m\n\u001b[0m",
      "\u001b[0;31mKeyboardInterrupt\u001b[0m: "
     ]
    }
   ],
   "source": [
    "torch.cuda.empty_cache()\n",
    "\n",
    "# --- config ---\n",
    "plot_every = 30\n",
    "# --- end ---\n",
    "\n",
    "step = 1\n",
    "\n",
    "train_loss = []\n",
    "test_loss = []\n",
    "test_step = []\n",
    "mem_usage = []\n",
    "\n",
    "torch.cuda.reset_max_memory_allocated()\n",
    "for epoch in range(n_epochs):\n",
    "    epoch_bar.update(1)\n",
    "    for batch in tqdm(train_dataloader):\n",
    "        loss = dqn_update(step, batch, params)\n",
    "        train_loss.append(loss)\n",
    "        step += 1\n",
    "        if step % 30:\n",
    "            torch.cuda.empty_cache()\n",
    "            soft_update(dqn, target_dqn)\n",
    "        if step % plot_every == 0:\n",
    "            clear_output(True)\n",
    "            print('step', step)\n",
    "            mem_usage.append(torch.cuda.max_memory_allocated())\n",
    "            test_ = run_tests()\n",
    "            test_step.append(step)\n",
    "            test_loss.append(test_)\n",
    "            plt.plot(train_loss)\n",
    "            plt.plot(test_step, test_loss)\n",
    "            plt.show()\n",
    "            "
   ]
  },
  {
   "cell_type": "code",
   "execution_count": 11,
   "metadata": {},
   "outputs": [
    {
     "name": "stdout",
     "output_type": "stream",
     "text": [
      "[[[-0.1295   1.16935 -0.48958  1.15725 -1.12578 -1.12871  1.20861\n",
      "    0.7092  -1.75433  0.78336 -0.06654  0.01701  0.10032 -1.66869\n",
      "   -1.66936  1.31066 -1.89035  0.85733  0.29467 -2.57335  1.09865\n",
      "   -0.37118  0.28674 -0.03325 -0.04116  0.31573  0.17564 -0.85095\n",
      "   -0.72411  1.78047 -0.08764 -1.82273 -1.7149   0.42091 -1.9658\n",
      "   -0.37696 -0.99364 -0.02163  0.59692  0.43212  0.84377 -1.03082\n",
      "   -1.10816  1.07965 -0.51705  0.18891  0.54048 -0.62935  0.76171\n",
      "   -1.03486 -1.33935 -0.72902  1.07903 -0.77892 -0.06467  0.37879\n",
      "    0.3149   0.83153 -0.73904 -0.77743  0.61622  0.25018 -1.14094\n",
      "   -0.60113 -0.77198  0.43308 -0.02435  1.53947  1.10815  0.55461\n",
      "   -0.59295  0.30839  1.29305 -1.54144 -0.4722   0.42438 -1.42892\n",
      "    0.30123 -1.38345  0.89604 -0.46374  1.01234  0.79323 -1.8172\n",
      "    1.76816  1.31062 -0.77374  0.85284  0.22765  0.91387  0.40847\n",
      "    0.27434  0.98777  1.06231  0.05701  1.17557  0.20852 -0.32834\n",
      "   -0.11413 -0.94112  1.02541  0.38978  0.86436 -0.7692  -0.03691\n",
      "    0.327    2.11549 -0.13522  0.45396 -0.1976   0.3953  -1.70671\n",
      "   -1.22622 -0.18697 -0.14552 -0.66944 -1.26578  1.10903 -1.47451\n",
      "   -0.58925  1.12494 -0.70216 -0.97481  0.29219  1.33927  1.24211\n",
      "    0.18459  0.22939]]]\n"
     ]
    }
   ],
   "source": [
    "np.set_printoptions(precision=5)\n",
    "np.set_printoptions(suppress=True)\n",
    "print(embeddings(torch.tensor([[686]]).to(device)).detach().cpu().numpy())"
   ]
  },
  {
   "cell_type": "code",
   "execution_count": 12,
   "metadata": {},
   "outputs": [],
   "source": [
    "torch.save(embeddings.state_dict(), \"../../models/embeddings/dqn.pt\")"
   ]
  },
  {
   "cell_type": "code",
   "execution_count": null,
   "metadata": {},
   "outputs": [],
   "source": []
  },
  {
   "cell_type": "code",
   "execution_count": 14,
   "metadata": {},
   "outputs": [
    {
     "data": {
      "text/plain": [
       "[<matplotlib.lines.Line2D at 0x7f94280c1710>]"
      ]
     },
     "execution_count": 14,
     "metadata": {},
     "output_type": "execute_result"
    },
    {
     "data": {
      "image/png": "[encoded data removed]",
      "text/plain": [
       "<Figure size 432x288 with 1 Axes>"
      ]
     },
     "metadata": {
      "needs_background": "light"
     },
     "output_type": "display_data"
    }
   ],
   "source": [
    "plt.plot(mem_usage)"
   ]
  },
  {
   "cell_type": "code",
   "execution_count": 15,
   "metadata": {},
   "outputs": [
    {
     "data": {
      "text/plain": [
       "5626054144"
      ]
     },
     "execution_count": 15,
     "metadata": {},
     "output_type": "execute_result"
    }
   ],
   "source": []
  },
  {
   "cell_type": "code",
   "execution_count": null,
   "metadata": {},
   "outputs": [],
   "source": []
  }
 ],
 "metadata": {
  "kernelspec": {
   "display_name": "Python 3 (ipykernel)",
   "language": "python",
   "name": "python3"
  },
  "language_info": {
   "codemirror_mode": {
    "name": "ipython",
    "version": 3
   },
   "file_extension": ".py",
   "mimetype": "text/x-python",
   "name": "python",
   "nbconvert_exporter": "python",
   "pygments_lexer": "ipython3",
   "version": "3.8.10"
  }
 },
 "nbformat": 4,
 "nbformat_minor": 4
}
